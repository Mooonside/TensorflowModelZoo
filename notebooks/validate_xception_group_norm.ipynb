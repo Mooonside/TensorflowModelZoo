{
 "cells": [
  {
   "cell_type": "code",
   "execution_count": 1,
   "metadata": {},
   "outputs": [
    {
     "name": "stderr",
     "output_type": "stream",
     "text": [
      "/home/chenyifeng/anaconda3/lib/python3.6/site-packages/h5py/__init__.py:36: FutureWarning: Conversion of the second argument of issubdtype from `float` to `np.floating` is deprecated. In future, it will be treated as `np.float64 == np.dtype(float).type`.\n",
      "  from ._conv import register_converters as _register_converters\n"
     ]
    },
    {
     "name": "stdout",
     "output_type": "stream",
     "text": [
      "WARNING:tensorflow:From /home/chenyifeng/anaconda3/lib/python3.6/site-packages/tensorflow/contrib/learn/python/learn/datasets/base.py:198: retry (from tensorflow.contrib.learn.python.learn.datasets.base) is deprecated and will be removed in a future version.\n",
      "Instructions for updating:\n",
      "Use the retry module or similar alternatives.\n"
     ]
    }
   ],
   "source": [
    "import tensorflow as tf\n",
    "import numpy as np\n",
    "import sys\n",
    "import os\n",
    "import cv2\n",
    "import matplotlib.pyplot as plt\n",
    "\n",
    "os.environ['CUDA_VISIBLE_DEVICES'] = '1'\n",
    "sys.path.insert(0, '..')\n",
    "arg_scope = tf.contrib.framework.arg_scope\n",
    "\n",
    "\n",
    "%matplotlib inline\n",
    "%load_ext autoreload\n",
    "% autoreload 2"
   ]
  },
  {
   "cell_type": "code",
   "execution_count": 2,
   "metadata": {},
   "outputs": [],
   "source": [
    "from networks.xception import xception_65, xception_arg_scope_gn"
   ]
  },
  {
   "cell_type": "code",
   "execution_count": 3,
   "metadata": {},
   "outputs": [],
   "source": [
    "inputs = tf.placeholder(shape=[None, 224, 224, 3], name='inputs', dtype=tf.float32)"
   ]
  },
  {
   "cell_type": "code",
   "execution_count": 4,
   "metadata": {
    "scrolled": true
   },
   "outputs": [],
   "source": [
    "with arg_scope(xception_arg_scope_gn(weight_decay=1e-4, group_norm_num=8)):\n",
    "    net, end_points = xception_65(inputs, num_classes=1001, is_training=False, scope='xception_65')"
   ]
  },
  {
   "cell_type": "code",
   "execution_count": 5,
   "metadata": {},
   "outputs": [
    {
     "name": "stdout",
     "output_type": "stream",
     "text": [
      "INFO:tensorflow:Restoring parameters from /home/chenyifeng/TF_Models/atrain/xception_gn/./0.935_39.ckpt\n"
     ]
    }
   ],
   "source": [
    "ckpt_path = tf.train.latest_checkpoint('/home/chenyifeng/TF_Models/atrain/xception_gn')\n",
    "sess = tf.Session()\n",
    "saver = tf.train.Saver()\n",
    "saver.restore(sess, ckpt_path)"
   ]
  },
  {
   "cell_type": "code",
   "execution_count": 6,
   "metadata": {},
   "outputs": [],
   "source": [
    "def ilsvrc_preprocess(img):\n",
    "    img = img.astype(np.float32)\n",
    "    img = (2.0 / 255.0) * img - 1.0\n",
    "    img = cv2.resize(img, (224, 224), interpolation=cv2.INTER_LINEAR)\n",
    "    # pad img at right bottom so that it can be divided by stride\n",
    "    img = np.expand_dims(img, axis=0)\n",
    "    return img"
   ]
  },
  {
   "cell_type": "code",
   "execution_count": 16,
   "metadata": {},
   "outputs": [
    {
     "name": "stdout",
     "output_type": "stream",
     "text": [
      "198\n",
      "938\n",
      "863\n",
      "938\n",
      "863\n",
      "343\n",
      "938\n",
      "863\n",
      "863\n",
      "938\n",
      "863\n",
      "198\n",
      "343\n",
      "863\n",
      "343\n",
      "938\n",
      "938\n",
      "251\n",
      "863\n",
      "938\n"
     ]
    }
   ],
   "source": [
    "pics_path = '/mnt/ftp/datasets/ImageNet/ISVRC2015/challenge/dataset/CLS-LOC/ILSVRC2015_CLS-LOC/Data/CLS-LOC/train/n04141975'\n",
    "for pic_name in os.listdir(pics_path)[:20]:\n",
    "#     pic_name = os.listdir(pics_path)[14]\n",
    "    pic_path = os.path.join(pics_path, pic_name)\n",
    "\n",
    "    img = cv2.imread(pic_path)\n",
    "#     plt.figure(figsize=(5, 5))\n",
    "#     plt.imshow(img[:, :, ::-1])\n",
    "    # keep input in bgr order!\n",
    "    net_v = sess.run(net, feed_dict={inputs:ilsvrc_preprocess(img[:, :, ::-1])})\n",
    "\n",
    "    net_v = np.squeeze(net_v)\n",
    "    print(np.argmax(net_v))"
   ]
  },
  {
   "cell_type": "code",
   "execution_count": null,
   "metadata": {},
   "outputs": [],
   "source": []
  }
 ],
 "metadata": {
  "kernelspec": {
   "display_name": "Python 3",
   "language": "python",
   "name": "python3"
  },
  "language_info": {
   "codemirror_mode": {
    "name": "ipython",
    "version": 3
   },
   "file_extension": ".py",
   "mimetype": "text/x-python",
   "name": "python",
   "nbconvert_exporter": "python",
   "pygments_lexer": "ipython3",
   "version": "3.6.4"
  }
 },
 "nbformat": 4,
 "nbformat_minor": 2
}
